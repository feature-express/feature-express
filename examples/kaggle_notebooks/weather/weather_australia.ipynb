{
 "cells": [
  {
   "cell_type": "code",
   "execution_count": null,
   "id": "0f9ca4d8",
   "metadata": {},
   "outputs": [],
   "source": [
    "\n",
    "# # Importing Libraries\n",
    "# Here, we are importing pandas for data manipulation and `fexpress` which refers to our custom Rust-based feature engineering library.\n",
    "#"
   ]
  },
  {
   "cell_type": "code",
   "execution_count": null,
   "id": "cdce130b",
   "metadata": {},
   "outputs": [],
   "source": [
    "\n",
    "import pandas as pd\n",
    "import fexpress as fx\n",
    "\n",
    "# # Loading Data\n",
    "# We are loading rows from the \"weatherAUS.csv\" dataset and viewing its columns."
   ]
  },
  {
   "cell_type": "code",
   "execution_count": null,
   "id": "6650673c",
   "metadata": {},
   "outputs": [],
   "source": [
    "\n",
    "df = pd.read_csv(\"datasets/weatherAUS.csv\", nrows=1000)\n",
    "df.head()\n",
    "df.columns\n",
    "\n",
    "# # Creating Events\n",
    "# We're iterating through the dataframe and creating a new event for each row, encapsulating various weather attributes. These events are added to the FeatureExpress context.\n",
    "#"
   ]
  },
  {
   "cell_type": "code",
   "execution_count": null,
   "id": "a7d67fe6",
   "metadata": {},
   "outputs": [],
   "source": [
    "\n",
    "event_context = fx.FeatureExpress()\n",
    "for row in df.itertuples():\n",
    "    event = fx.Event(\n",
    "        event_id=str(row.Index),\n",
    "        entities={\"city\": row.Location},\n",
    "        event_type=\"reading\",\n",
    "        event_time=str(row.Date),\n",
    "        attrs={col: row.__getattribute__(col) for col in ['MinTemp', 'MaxTemp', 'Rainfall', 'Evaporation',\n",
    "       'Sunshine', 'WindGustDir', 'WindGustSpeed', 'WindDir9am', 'WindDir3pm',\n",
    "       'WindSpeed9am', 'WindSpeed3pm', 'Humidity9am', 'Humidity3pm',\n",
    "       'Pressure9am', 'Pressure3pm', 'Cloud9am', 'Cloud3pm', 'Temp9am',\n",
    "       'Temp3pm', 'RainToday'] if row.__getattribute__(col)==row.__getattribute__(col)},\n",
    "    )\n",
    "    event_context.new_event(event)\n",
    "\n",
    "# # Configuration\n",
    "# Setting up the observation dates and query configurations."
   ]
  },
  {
   "cell_type": "code",
   "execution_count": null,
   "id": "d99d99da",
   "metadata": {},
   "outputs": [],
   "source": [
    "\n",
    "obs_dates_config = fx.ObservationDateConfig(interval=fx.sdk.observation_dates_config.Interval(\n",
    "    date_part=fx.sdk.observation_dates_config.DatePart.DAY,\n",
    "    entity_types=[\"city\"],\n",
    "    nth=7\n",
    "))\n",
    "event_scope_config=fx.sdk.event_scope_config.EventScopeConfigClass(related_entities_events=[\"city\"])\n",
    "query_config = fx.sdk.query_config.QueryConfig(include_events_on_obs_date=False, parallel=True)\n",
    "\n",
    "# # Schema Information\n",
    "# Print the schema information for the reading event."
   ]
  },
  {
   "cell_type": "code",
   "execution_count": null,
   "id": "0486b0e0",
   "metadata": {},
   "outputs": [],
   "source": [
    "\n",
    "print(event_context.event_context.schema())\n",
    "\n",
    "# # Querying Features\n",
    "# Using our defined configuration, we query features like average temperature, wind speed, rainfall, etc. over different time windows."
   ]
  },
  {
   "cell_type": "code",
   "execution_count": null,
   "id": "727f4e94",
   "metadata": {},
   "outputs": [],
   "source": [
    "\n",
    "features = event_context.query(\n",
    "    obs_dates_config=obs_dates_config,\n",
    "    event_scope_config=fx.sdk.event_scope_config.EventScopeConfigClass(related_entities_events=[\"city\"]),\n",
    "    query_config=query_config,\n",
    "    query=[\n",
    "        \"obs_dt as obs_dt\",\n",
    "        \"@entities.city as city\",\n",
    "        \"avg(MaxTemp) over last 7 days\",\n",
    "        \"min(MinTemp) over last 7 days\",\n",
    "        \"max(WindGustSpeed) over last 3 days\",\n",
    "        \"last(Humidity3pm) over past\",\n",
    "        \"first(Humidity9am) over future\",\n",
    "        \"sum(Rainfall) over last 30 days\",\n",
    "        \"avg(WindSpeed9am) over last 5 days\",\n",
    "        \"avg(WindSpeed3pm) over last 5 days\",\n",
    "        \"last(Temp3pm) over last 3 days\",\n",
    "        \"first(Temp9am) over last 3 days\",\n",
    "        \"count(*) over last 30 days where RainToday = 'Yes' as rainy_days\",\n",
    "        \"count(*) over last 30 days where RainToday = 'No' as non_rainy_days\",\n",
    "        \"avg(Cloud9am) over last 7 days\",\n",
    "        \"avg(Cloud3pm) over last 7 days\",\n",
    "        \"sum(Pressure9am) over last 3 days\",\n",
    "        \"sum(Pressure3pm) over last 3 days\",\n",
    "        \"last(WindGustDir) over past\",\n",
    "        \"max(Temp3pm) over last 7 days\",\n",
    "        \"min(Temp9am) over last 7 days\"\n",
    "    ]\n",
    ")\n",
    "print(features.head())"
   ]
  }
 ],
 "metadata": {
  "jupytext": {
   "cell_metadata_filter": "-all",
   "encoding": "# coding: utf-8",
   "executable": "/usr/bin/env python",
   "main_language": "python",
   "notebook_metadata_filter": "-all"
  }
 },
 "nbformat": 4,
 "nbformat_minor": 5
}
